{
 "cells": [
  {
   "cell_type": "markdown",
   "id": "f0bc44fb-faa1-433f-9043-2f180fd46209",
   "metadata": {},
   "source": [
    "# Neural Style Transfer\n",
    "\n",
    "**Resources:**\n",
    "* [Original paper - A Neural Algorithm of Artistic Style](https://arxiv.org/abs/1508.06576)\n",
    "* [Demystifying Neural Style Transfer](https://arxiv.org/abs/1701.01036)\n",
    "* [Official PyTorch Tutorial](https://pytorch.org/tutorials/advanced/neural_style_tutorial.html)\n",
    "* [Blog by Amar](https://towardsdatascience.com/implementing-neural-style-transfer-using-pytorch-fd8d43fb7bfa)"
   ]
  },
  {
   "cell_type": "markdown",
   "id": "457c9ab2-8e1d-42e9-bfff-50929ab16d35",
   "metadata": {},
   "source": [
    "## Paper overview\n",
    "### Model\n",
    "\n",
    "Here is how each image is \"ran-forward\" with vgg19 and what outputs are saved/used to optimize the **content image**\n",
    "\n",
    "![model](https://user-images.githubusercontent.com/16206648/139554170-1c63cd04-c83f-4ea8-bb12-da05b87d5c9a.jpg)\n"
   ]
  },
  {
   "cell_type": "markdown",
   "id": "2664e504-063d-43c8-814d-410d691e3fd4",
   "metadata": {},
   "source": [
    "### Loss"
   ]
  },
  {
   "cell_type": "markdown",
   "id": "047cb19a-5a33-400f-83ef-3786c7805232",
   "metadata": {},
   "source": [
    "#### Total Loss\n",
    "\n",
    "$$\n",
    "\\mathcal{L}_{total}(\\vec{p}, \\vec{a}, \\vec{x}) = \\alpha\\mathcal{L}_{content}(\\vec{p}, \\vec{x}) + \\beta\\mathcal{L}_{style}(\\vec{a}, \\vec{x}) \\tag{1}\n",
    "$$\n",
    "$ \\vec{p} $ - content image  \n",
    "$ \\vec{a} $ - style image   \n",
    "$ \\vec{x} $ - generated image   \n",
    "$ \\alpha $ - content coefficient   \n",
    "$ \\beta $ - style cooefficient \n",
    "\n",
    "> Generated image $\\vec{x}$ can be either initialized as content image or white noise (random values)."
   ]
  },
  {
   "cell_type": "markdown",
   "id": "96f02e16-6423-4fc1-abd7-a399082ff7ca",
   "metadata": {},
   "source": [
    "#### Content Loss\n",
    "\n",
    "$$\n",
    "\\mathcal{L}_{content}(\\vec{p}, \\vec{x}) = \\dfrac{1}{2} \\sum_{i,j}(F_{i,j}^{l} - P_{i,j}^{l})^2 \\tag{2}\n",
    "$$\n",
    "\n",
    "Content loss is a squared error between: \n",
    "  \n",
    "$ F_{i,j}^{l} $ - Output of conv layer **$l$** for input (generated) image  \n",
    "$ P_{i,j}^{l} $ - Output of conv layer **$l$** for content image  \n",
    "\n",
    "> $ i, j $ represent **i-th** position of the filter at position **j** which implementation-wise doesn't change anything as we take whole outputs of conv layers\n",
    "\n",
    "There's a small difference in notation when it comes to implementation. In paper, $F^{l}$ is defined as $F^{l} \\in \\mathbb{R}^{N_l x M_l}$, which means it's a matrix with shape ($N_l$ - number of feature maps, $M_l$ - $width * height$ of feature maps). In contrast, here we have $F^{l} \\in \\mathbb{R}^{N_l x H_l x W_l}$ which is just a reshaped version of the matrix in the paper."
   ]
  },
  {
   "cell_type": "markdown",
   "id": "9452459e-ebf7-4163-aaf6-f2229c232b93",
   "metadata": {},
   "source": [
    "#### Style Loss\n",
    "\n",
    "Instead of taking raw conv layer outputs as in content loss, style loss firstly computes Gram matrix. They mentioned that Gram matrix computes feature correlations between feature maps? (will have to look more into what that exactly means).\n",
    "$$\n",
    "G_{i,j}^l = \\sum_{k}(F_{i,k}^lF_{j,k}^l) \\tag{3}\n",
    "$$\n",
    "where:\n",
    "\n",
    "$F_{i,k}^l$ is output of conv layer **$l$**, defined as $F^{l} \\in \\mathbb{R}^{N_l x M_l}$, where $(N_l = channels, M_l = height * width)$  \n",
    "$F_{j,k}^l$ is transposed version of previously mentioned matrix\n",
    "\n",
    "This essentially means $G$ is computed as $F * F^T$ and $G \\in \\mathbb{R}^{NxN}$\n",
    "\n",
    "> Because $G$ is of shape $NxN$, it means that the dimensions of Gram matrix vary between conv layers with different number of feature maps. In official PyTorch tutorial this is resolved by normalazing each gram matrix by dividing it with its number of elements. I haven't seen this in paper but I'll test both **with** and **without** normalization."
   ]
  },
  {
   "cell_type": "markdown",
   "id": "758cb481-7909-484f-9ff0-35ea86f3c35f",
   "metadata": {},
   "source": [
    "With *Gram matrix* defined, they computed the **loss per layer** as mean-squared error:\n",
    "$$\n",
    "E_l = \\dfrac{1}{4N_l^2M_l^2}\\sum_{i,j}(G_{i,j}^l-A_{i,j}^l)^2\\tag{4}\n",
    "$$\n",
    "> How the hell is this mean?"
   ]
  },
  {
   "cell_type": "markdown",
   "id": "54ab05ea-4679-4db1-adc9-f151a1bc627d",
   "metadata": {},
   "source": [
    "## Experiments\n",
    "\n",
    "Here I examined several experiments:\n",
    "1. Gram matrix values (Normalized vs Not-normalized)\n",
    "2. Number of iterations (Differences in quality)\n",
    "3. Impact of style losses in different layers\n",
    "4. Adam vs LBFG-S optimizer"
   ]
  },
  {
   "cell_type": "code",
   "execution_count": 2,
   "id": "dd367e9e-416c-4367-b172-a9d597af29c6",
   "metadata": {},
   "outputs": [],
   "source": [
    "import pandas as pd\n",
    "import numpy as np\n",
    "import requests\n",
    "\n",
    "def load_losses(url: str) -> pd.DataFrame:\n",
    "    \"\"\"Loads losses in JSON format from URL\n",
    "    \"\"\"\n",
    "    response = requests.get(url)\n",
    "    response.raise_for_status()\n",
    "    losses = response.json()['losses']\n",
    "    return pd.DataFrame(losses)"
   ]
  },
  {
   "cell_type": "markdown",
   "id": "6ea12ca7-10b8-4a31-a586-91368ec1f8d3",
   "metadata": {},
   "source": [
    "### Gram matrix values (Normalized vs Not-normalized)\n",
    "\n",
    "Images without normalization tend to be very blurry.\n",
    "\n",
    "![Normalized_gram_matrix](https://github.com/bvezilic/Neural-style-transfer/blob/gram-matrix-norm-True/results/style_transfer_results.jpg?raw=true)\n",
    "\n",
    "![Not_normalized_gram_matrix](https://github.com/bvezilic/Neural-style-transfer/blob/gram-matrix-norm-False/results/style_transfer_results.jpg?raw=true)"
   ]
  },
  {
   "cell_type": "markdown",
   "id": "ac85e7c4-f7d6-42d5-9fe3-44739316ce1d",
   "metadata": {},
   "source": [
    "### Number of iterations\n",
    "\n",
    "Number of iteration isn't exactly corret. LBFGS optimizer does 20 updates per iterations. So the number of steps is\n",
    "* 5 iterations = 100 steps\n",
    "* 10 terations = 200 steps\n",
    "* 20 iterations = 400 steps\n",
    "\n",
    "There isn't a *huge* difference in generated images as the **loss** seems to drop quite fast. More on losses in later experiments.\n",
    "\n",
    "![5_iterations_run](https://github.com/bvezilic/Neural-style-transfer/blob/iterations=5/results/style_transfer_results.jpg?raw=true)\n",
    "\n",
    "![10_iterations_run](https://github.com/bvezilic/Neural-style-transfer/blob/iterations=10/results/style_transfer_results.jpg?raw=true)\n",
    "\n",
    "![20_iterations_run](https://github.com/bvezilic/Neural-style-transfer/blob/iterations=20/results/style_transfer_results.jpg?raw=true)"
   ]
  },
  {
   "cell_type": "markdown",
   "id": "55a7a11a-b504-4c09-ae75-9ad500adde3e",
   "metadata": {},
   "source": [
    "### Impact of losses in different layers"
   ]
  },
  {
   "cell_type": "code",
   "execution_count": 3,
   "id": "1ee7605a-5f54-404f-8879-68fb51916d30",
   "metadata": {},
   "outputs": [
    {
     "data": {
      "image/png": "[encoded data removed]",
      "text/plain": [
       "<Figure size 432x288 with 1 Axes>"
      ]
     },
     "metadata": {
      "needs_background": "light"
     },
     "output_type": "display_data"
    }
   ],
   "source": [
    "df = load_losses('https://github.com/bvezilic/Neural-style-transfer/blob/iterations%3D20/results/losses_Pablo_Picasso_Figure_dans_un_Fauteuil.jpg.json?raw=true')\n",
    "ax = df.loc[:, 'total_loss'].apply(np.log).plot.line()"
   ]
  },
  {
   "cell_type": "markdown",
   "id": "bf98cfe9-5d5f-45d8-99e8-60da7c62904f",
   "metadata": {},
   "source": [
    "Adam vs LBFGS"
   ]
  }
 ],
 "metadata": {
  "kernelspec": {
   "display_name": "Python 3 (ipykernel)",
   "language": "python",
   "name": "python3"
  },
  "language_info": {
   "codemirror_mode": {
    "name": "ipython",
    "version": 3
   },
   "file_extension": ".py",
   "mimetype": "text/x-python",
   "name": "python",
   "nbconvert_exporter": "python",
   "pygments_lexer": "ipython3",
   "version": "3.9.7"
  },
  "toc-autonumbering": false
 },
 "nbformat": 4,
 "nbformat_minor": 5
}
